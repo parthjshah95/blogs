{
 "cells": [
  {
   "cell_type": "code",
   "execution_count": 1,
   "metadata": {},
   "outputs": [],
   "source": [
    "from scipy.stats import beta\n",
    "import plotly.graph_objs as go\n",
    "import numpy as np\n",
    "from ipywidgets import interact\n",
    "\n",
    "# fig, ax = plt.subplots(1, 1)\n",
    "# a, b = 2.31, 0.627\n",
    "# x = np.linspace(beta.ppf(0.01, a, b),\n",
    "#                 beta.ppf(0.99, a, b), 100)\n",
    "# ax.plot(x, beta.pdf(x, a, b),\n",
    "#        'r-', lw=5, alpha=0.6, label='beta pdf')\n",
    "# plt.show()"
   ]
  },
  {
   "cell_type": "code",
   "execution_count": 2,
   "metadata": {},
   "outputs": [
    {
     "data": {
      "application/vnd.jupyter.widget-view+json": {
       "model_id": "63d7f87c4100481fb5e268cf8db323b0",
       "version_major": 2,
       "version_minor": 0
      },
      "text/plain": [
       "interactive(children=(FloatSlider(value=2.0, description='a', max=10.0, step=0.01), FloatSlider(value=2.0, des…"
      ]
     },
     "metadata": {},
     "output_type": "display_data"
    },
    {
     "data": {
      "application/vnd.jupyter.widget-view+json": {
       "model_id": "943e393286364bc9a1f1c944558fc7dc",
       "version_major": 2,
       "version_minor": 0
      },
      "text/plain": [
       "FigureWidget({\n",
       "    'data': [{'type': 'scatter',\n",
       "              'uid': 'eaceceab-9deb-457a-af33-d89920c51745',\n",
       " …"
      ]
     },
     "metadata": {},
     "output_type": "display_data"
    }
   ],
   "source": [
    "fig = go.FigureWidget()\n",
    "fig.add_scatter()\n",
    "scatt = fig.data[0]\n",
    "fig.update_layout(\n",
    "    width = 800,\n",
    "    height = 500,\n",
    ")\n",
    "fig.update_xaxes(range=[0, 1])\n",
    "\n",
    "\n",
    "@interact(a=(0, 10, 0.01), b=(0, 10, 0.01))\n",
    "def update(a=2, b=2):\n",
    "    with fig.batch_update():\n",
    "        x = np.linspace(beta.ppf(0.01, a, b),\n",
    "                beta.ppf(0.99, a, b), 100)\n",
    "        scatt.x = x\n",
    "        scatt.y = beta.pdf(x, a, b)\n",
    "fig"
   ]
  },
  {
   "cell_type": "code",
   "execution_count": null,
   "metadata": {},
   "outputs": [],
   "source": []
  }
 ],
 "metadata": {
  "kernelspec": {
   "display_name": "Python 3",
   "language": "python",
   "name": "python3"
  },
  "language_info": {
   "codemirror_mode": {
    "name": "ipython",
    "version": 3
   },
   "file_extension": ".py",
   "mimetype": "text/x-python",
   "name": "python",
   "nbconvert_exporter": "python",
   "pygments_lexer": "ipython3",
   "version": "3.8.3"
  }
 },
 "nbformat": 4,
 "nbformat_minor": 4
}
