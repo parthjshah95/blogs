{
 "cells": [
  {
   "cell_type": "code",
   "execution_count": 1,
   "metadata": {},
   "outputs": [],
   "source": [
    "import plotly.graph_objs as go\n",
    "import numpy as np\n",
    "from ipywidgets import interact"
   ]
  },
  {
   "cell_type": "code",
   "execution_count": 24,
   "metadata": {},
   "outputs": [
    {
     "data": {
      "application/vnd.jupyter.widget-view+json": {
       "model_id": "1c9264513f4e4e7bab4e208d4d4176b4",
       "version_major": 2,
       "version_minor": 0
      },
      "text/plain": [
       "interactive(children=(FloatSlider(value=1.0, description='slope', max=5.0, min=-5.0, step=0.0001), FloatSlider…"
      ]
     },
     "metadata": {},
     "output_type": "display_data"
    },
    {
     "data": {
      "application/vnd.jupyter.widget-view+json": {
       "model_id": "9f31c952b3b7490291101668a2545dc1",
       "version_major": 2,
       "version_minor": 0
      },
      "text/plain": [
       "FigureWidget({\n",
       "    'data': [{'type': 'scatter',\n",
       "              'uid': 'f69867b4-31ef-4493-bdc3-2aadcac6d581',\n",
       " …"
      ]
     },
     "metadata": {},
     "output_type": "display_data"
    }
   ],
   "source": [
    "fig = go.FigureWidget()\n",
    "fig.add_scatter()\n",
    "scatt = fig.data[0]\n",
    "fig.update_layout(\n",
    "    width = 800,\n",
    "    height = 500,\n",
    "#     title = \"fixed-ratio axes\"\n",
    ")\n",
    "# fig.update_yaxes(\n",
    "#     scaleanchor = \"x\",\n",
    "#     scaleratio = 1,\n",
    "#   )\n",
    "xs=np.linspace(-10, 10, 100)\n",
    "fig.update_xaxes(range=[-8, 8])\n",
    "fig.update_yaxes(range=[-5, 5])\n",
    "\n",
    "@interact(slope=(-5, 5, 0.0001), intercept=(-6, 6, 0.01))\n",
    "def update(slope=1, intercept=0):\n",
    "    with fig.batch_update():\n",
    "        scatt.x = xs\n",
    "        scatt.y = slope * xs + intercept\n",
    "\n",
    "fig"
   ]
  },
  {
   "cell_type": "code",
   "execution_count": null,
   "metadata": {},
   "outputs": [],
   "source": []
  }
 ],
 "metadata": {
  "kernelspec": {
   "display_name": "Python 3",
   "language": "python",
   "name": "python3"
  },
  "language_info": {
   "codemirror_mode": {
    "name": "ipython",
    "version": 3
   },
   "file_extension": ".py",
   "mimetype": "text/x-python",
   "name": "python",
   "nbconvert_exporter": "python",
   "pygments_lexer": "ipython3",
   "version": "3.8.3"
  }
 },
 "nbformat": 4,
 "nbformat_minor": 4
}
