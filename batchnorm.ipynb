{
 "cells": [
  {
   "cell_type": "code",
   "execution_count": 1,
   "metadata": {},
   "outputs": [],
   "source": [
    "import plotly.graph_objs as go\n",
    "import numpy as np\n",
    "from ipywidgets import interact"
   ]
  },
  {
   "cell_type": "code",
   "execution_count": 34,
   "metadata": {},
   "outputs": [
    {
     "data": {
      "application/vnd.jupyter.widget-view+json": {
       "model_id": "47c51b8530e144a09dbc73229fcf3b80",
       "version_major": 2,
       "version_minor": 0
      },
      "text/plain": [
       "interactive(children=(FloatSlider(value=1.0, description='slope', max=5.0, min=-5.0, step=0.0001), FloatSlider…"
      ]
     },
     "metadata": {},
     "output_type": "display_data"
    },
    {
     "data": {
      "application/vnd.jupyter.widget-view+json": {
       "model_id": "ed0f00fba6074060b802f738b589d636",
       "version_major": 2,
       "version_minor": 0
      },
      "text/plain": [
       "FigureWidget({\n",
       "    'data': [{'marker': {'color': 'rgba(237, 31, 31, 1)'},\n",
       "              'name': 'line',\n",
       "      …"
      ]
     },
     "metadata": {},
     "output_type": "display_data"
    }
   ],
   "source": [
    "fig = go.FigureWidget()\n",
    "\n",
    "red = 'rgba(237, 31, 31, 1)'\n",
    "green = 'rgba(12, 237, 49, 1)'\n",
    "yellow = 'rgba(237, 223, 31, 1)'\n",
    "blue = 'rgba(31, 199, 237, 1)'\n",
    "\n",
    "fig.add_trace(go.Scatter(\n",
    "    marker_color=red,\n",
    "    name='line'\n",
    "))\n",
    "\n",
    "# add_scatter(marker_color=red)\n",
    "scatt = fig.data[0]\n",
    "fig.update_layout(\n",
    "    width = 800,\n",
    "    height = 500,\n",
    "#     title = \"fixed-ratio axes\"\n",
    ")\n",
    "# fig.update_yaxes(\n",
    "#     scaleanchor = \"x\",\n",
    "#     scaleratio = 1,\n",
    "#   )\n",
    "\n",
    "\n",
    "N = 100\n",
    "\n",
    "# cx1 = 16*np.random.rand() - 8\n",
    "# cx2 = 16*np.random.rand() - 8\n",
    "# cy1 = 10*np.random.rand() - 5\n",
    "# cy2 = 10*np.random.rand() - 5\n",
    "\n",
    "cx1 = 4\n",
    "cx2 = -1\n",
    "cy1 = -2\n",
    "cy1 = 3\n",
    "\n",
    "x1 = cx1 + np.random.randn(N)\n",
    "x2 = cx2 + np.random.randn(N)\n",
    "y1 = cy1 + np.random.randn(N)\n",
    "y2 = cy2 + np.random.randn(N)\n",
    "\n",
    "fig.add_trace(go.Scatter(x=x1, y=y1,\n",
    "                    mode='markers',\n",
    "                    name='markers',\n",
    "                    marker_color=yellow))\n",
    "fig.add_trace(go.Scatter(x=x2, y=y2,\n",
    "                    mode='markers',\n",
    "                    name='markers',\n",
    "                    marker_color=blue))\n",
    "\n",
    "xs=np.linspace(-10, 10, 100)\n",
    "fig.update_xaxes(range=[-8, 8])\n",
    "fig.update_yaxes(range=[-5, 5])\n",
    "\n",
    "classified = False\n",
    "\n",
    "def evaluate(slope, intercept, x, y):\n",
    "    \"\"\"\n",
    "    slope, intercept: description of the classifier\n",
    "    x, y: arrays of length N representing N points\n",
    "    returns: 1 if all points are classified as positive by the line\n",
    "             0 if points are mixed\n",
    "            -1 if all points are classified as negative\n",
    "    \"\"\"\n",
    "    res = slope*x - y + intercept\n",
    "    if (res > 0).all():\n",
    "        return 1\n",
    "    elif (res < 0).all():\n",
    "        return -1\n",
    "    return 0\n",
    "\n",
    "@interact(slope=(-5, 5, 0.0001), intercept=(-6, 6, 0.01))\n",
    "def update(slope=1, intercept=0):\n",
    "    with fig.batch_update():\n",
    "        scatt.x = xs\n",
    "        scatt.y = slope * xs + intercept\n",
    "    ev1 = evaluate(slope, intercept, x1, y1)\n",
    "    ev2 = evaluate(slope, intercept, x2, y2)\n",
    "    classified = ev1 != 0 and ev2 != 0 and ev1 == -1*ev2\n",
    "    if classified:\n",
    "        fig.update_traces(marker_color=green,\n",
    "                  selector=dict(name=\"line\"))\n",
    "    else:\n",
    "        fig.update_traces(marker_color=red,\n",
    "                  selector=dict(name=\"line\"))\n",
    "        \n",
    "fig"
   ]
  },
  {
   "cell_type": "code",
   "execution_count": null,
   "metadata": {},
   "outputs": [],
   "source": []
  }
 ],
 "metadata": {
  "kernelspec": {
   "display_name": "Python 3",
   "language": "python",
   "name": "python3"
  },
  "language_info": {
   "codemirror_mode": {
    "name": "ipython",
    "version": 3
   },
   "file_extension": ".py",
   "mimetype": "text/x-python",
   "name": "python",
   "nbconvert_exporter": "python",
   "pygments_lexer": "ipython3",
   "version": "3.8.3"
  }
 },
 "nbformat": 4,
 "nbformat_minor": 4
}
